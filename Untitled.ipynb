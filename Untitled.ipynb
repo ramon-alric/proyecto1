{
 "cells": [
  {
   "cell_type": "code",
   "execution_count": 1,
   "id": "shared-crystal",
   "metadata": {},
   "outputs": [],
   "source": [
    "import pandas as pd\n",
    "import pandas_profiling #Esto es una libreria que se va a usar al final de la Notebook para poner a disposicion los datos en una interfaz mas presentable y de mejor vizualizacion"
   ]
  },
  {
   "cell_type": "code",
   "execution_count": 5,
   "id": "available-balloon",
   "metadata": {},
   "outputs": [],
   "source": [
    "data_location = \"C:/Users/ramon/OneDrive/Documentos/dh/Primer_proyecto/Data/properatti.csv\"\n",
    "data = pd.read_csv(data_location, encoding='latin1')\n",
    "data.reset_index(inplace=True)\n",
    "pd.options.display.max_columns = 0"
   ]
  },
  {
   "cell_type": "code",
   "execution_count": 8,
   "id": "conservative-solomon",
   "metadata": {},
   "outputs": [],
   "source": [
    "data_capital_mask = data['state_name'] == 'Capital Federal'"
   ]
  },
  {
   "cell_type": "code",
   "execution_count": 10,
   "id": "defensive-machinery",
   "metadata": {},
   "outputs": [
    {
     "data": {
      "text/html": [
       "<div>\n",
       "<style scoped>\n",
       "    .dataframe tbody tr th:only-of-type {\n",
       "        vertical-align: middle;\n",
       "    }\n",
       "\n",
       "    .dataframe tbody tr th {\n",
       "        vertical-align: top;\n",
       "    }\n",
       "\n",
       "    .dataframe thead th {\n",
       "        text-align: right;\n",
       "    }\n",
       "</style>\n",
       "<table border=\"1\" class=\"dataframe\">\n",
       "  <thead>\n",
       "    <tr style=\"text-align: right;\">\n",
       "      <th></th>\n",
       "      <th>index</th>\n",
       "      <th>Unnamed: 0</th>\n",
       "      <th>operation</th>\n",
       "      <th>property_type</th>\n",
       "      <th>place_name</th>\n",
       "      <th>place_with_parent_names</th>\n",
       "      <th>country_name</th>\n",
       "      <th>state_name</th>\n",
       "      <th>geonames_id</th>\n",
       "      <th>lat-lon</th>\n",
       "      <th>lat</th>\n",
       "      <th>lon</th>\n",
       "      <th>price</th>\n",
       "      <th>currency</th>\n",
       "      <th>price_aprox_local_currency</th>\n",
       "      <th>price_aprox_usd</th>\n",
       "      <th>surface_total_in_m2</th>\n",
       "      <th>surface_covered_in_m2</th>\n",
       "      <th>price_usd_per_m2</th>\n",
       "      <th>price_per_m2</th>\n",
       "      <th>floor</th>\n",
       "      <th>rooms</th>\n",
       "      <th>expenses</th>\n",
       "      <th>properati_url</th>\n",
       "      <th>description</th>\n",
       "      <th>title</th>\n",
       "      <th>image_thumbnail</th>\n",
       "    </tr>\n",
       "  </thead>\n",
       "  <tbody>\n",
       "    <tr>\n",
       "      <th>0</th>\n",
       "      <td>0</td>\n",
       "      <td>0</td>\n",
       "      <td>sell</td>\n",
       "      <td>PH</td>\n",
       "      <td>Mataderos</td>\n",
       "      <td>|Argentina|Capital Federal|Mataderos|</td>\n",
       "      <td>Argentina</td>\n",
       "      <td>Capital Federal</td>\n",
       "      <td>3430787.0</td>\n",
       "      <td>-34.6618237,-58.5088387</td>\n",
       "      <td>-34.661824</td>\n",
       "      <td>-58.508839</td>\n",
       "      <td>62000.0</td>\n",
       "      <td>USD</td>\n",
       "      <td>1093959.0</td>\n",
       "      <td>62000.0</td>\n",
       "      <td>55.0</td>\n",
       "      <td>40.0</td>\n",
       "      <td>1127.272727</td>\n",
       "      <td>1550.0</td>\n",
       "      <td>NaN</td>\n",
       "      <td>NaN</td>\n",
       "      <td>NaN</td>\n",
       "      <td>http://www.properati.com.ar/15bo8_venta_ph_mat...</td>\n",
       "      <td>2 AMBIENTES TIPO CASA PLANTA BAJA POR PASILLO,...</td>\n",
       "      <td>2 AMB TIPO CASA SIN EXPENSAS EN PB</td>\n",
       "      <td>https://thumbs4.properati.com/8/BluUYiHJLhgIIK...</td>\n",
       "    </tr>\n",
       "  </tbody>\n",
       "</table>\n",
       "</div>"
      ],
      "text/plain": [
       "   index  Unnamed: 0 operation property_type  ...                                      properati_url                                        description                               title                                    image_thumbnail\n",
       "0      0           0      sell            PH  ...  http://www.properati.com.ar/15bo8_venta_ph_mat...  2 AMBIENTES TIPO CASA PLANTA BAJA POR PASILLO,...  2 AMB TIPO CASA SIN EXPENSAS EN PB  https://thumbs4.properati.com/8/BluUYiHJLhgIIK...\n",
       "\n",
       "[1 rows x 27 columns]"
      ]
     },
     "execution_count": 10,
     "metadata": {},
     "output_type": "execute_result"
    }
   ],
   "source": [
    "data_capital = data[data_capital_mask]\n",
    "data_capital.head(1)"
   ]
  },
  {
   "cell_type": "code",
   "execution_count": 28,
   "id": "trained-rogers",
   "metadata": {},
   "outputs": [
    {
     "data": {
      "text/plain": [
       "0"
      ]
     },
     "execution_count": 28,
     "metadata": {},
     "output_type": "execute_result"
    }
   ],
   "source": [
    "data.duplicated().sum()"
   ]
  },
  {
   "cell_type": "code",
   "execution_count": 26,
   "id": "false-alexandria",
   "metadata": {},
   "outputs": [
    {
     "data": {
      "text/plain": [
       "index                         32316\n",
       "Unnamed: 0                    32316\n",
       "operation                     32316\n",
       "property_type                 32316\n",
       "place_name                    32316\n",
       "place_with_parent_names       32316\n",
       "country_name                  32316\n",
       "state_name                    32316\n",
       "geonames_id                   31030\n",
       "lat-lon                       23770\n",
       "lat                           23770\n",
       "lon                           23770\n",
       "price                         29018\n",
       "currency                      29018\n",
       "price_aprox_local_currency    29018\n",
       "price_aprox_usd               29018\n",
       "surface_total_in_m2           26437\n",
       "surface_covered_in_m2         29977\n",
       "price_usd_per_m2              23434\n",
       "price_per_m2                  27324\n",
       "floor                          3009\n",
       "rooms                         15325\n",
       "expenses                       6592\n",
       "properati_url                 32316\n",
       "description                   32316\n",
       "title                         32316\n",
       "image_thumbnail               31828\n",
       "dtype: int64"
      ]
     },
     "execution_count": 26,
     "metadata": {},
     "output_type": "execute_result"
    }
   ],
   "source": [
    "data_capital.notnull().sum()"
   ]
  },
  {
   "cell_type": "code",
   "execution_count": 30,
   "id": "hired-timothy",
   "metadata": {},
   "outputs": [],
   "source": [
    "_75_percent_of_total_values = 24237"
   ]
  },
  {
   "cell_type": "code",
   "execution_count": 32,
   "id": "desperate-pilot",
   "metadata": {},
   "outputs": [
    {
     "name": "stdout",
     "output_type": "stream",
     "text": [
      "(121220, 27)\n",
      "(32316, 20)\n"
     ]
    }
   ],
   "source": [
    "data_1 = data_capital.dropna(axis = 1, thresh=_75_percent_of_total_values)\n",
    "print(data.shape)\n",
    "print(data_1.shape)"
   ]
  },
  {
   "cell_type": "code",
   "execution_count": 33,
   "id": "forced-surrey",
   "metadata": {},
   "outputs": [],
   "source": [
    "def columnas_unicas(x, y):\n",
    "    lista_2 = []\n",
    "    for i in x.columns:\n",
    "        if i not in y.columns:\n",
    "            lista_2.append(i)\n",
    "    return lista_2     "
   ]
  },
  {
   "cell_type": "code",
   "execution_count": 34,
   "id": "perceived-delay",
   "metadata": {},
   "outputs": [
    {
     "name": "stdout",
     "output_type": "stream",
     "text": [
      "['lat-lon', 'lat', 'lon', 'price_usd_per_m2', 'floor', 'rooms', 'expenses']\n"
     ]
    }
   ],
   "source": [
    "print(columnas_unicas(data_capital, data_1))"
   ]
  },
  {
   "cell_type": "code",
   "execution_count": 22,
   "id": "disturbed-midnight",
   "metadata": {},
   "outputs": [
    {
     "name": "stdout",
     "output_type": "stream",
     "text": [
      "0.9068882287411808\n",
      "0.0\n",
      "0.0\n"
     ]
    }
   ],
   "source": [
    "is_null_result = data_capital.isnull().sum()\n",
    "percentage_missing = (is_null_result/32316)\n",
    "print(percentage_missing['floor'])\n",
    "print(percentage_missing['property_type'])\n",
    "print(percentage_missing['place_name'])"
   ]
  },
  {
   "cell_type": "code",
   "execution_count": 17,
   "id": "stuffed-creek",
   "metadata": {},
   "outputs": [
    {
     "data": {
      "text/plain": [
       "12.661016949152541"
      ]
     },
     "execution_count": 17,
     "metadata": {},
     "output_type": "execute_result"
    }
   ],
   "source": [
    "mean_floor = data_capital['floor'].mean()\n",
    "mean_floor"
   ]
  },
  {
   "cell_type": "code",
   "execution_count": 18,
   "id": "instructional-badge",
   "metadata": {},
   "outputs": [
    {
     "data": {
      "text/plain": [
       "count    7899.000000\n",
       "mean       17.452336\n",
       "std       120.243621\n",
       "min         1.000000\n",
       "25%         1.000000\n",
       "50%         3.000000\n",
       "75%         6.000000\n",
       "max      3150.000000\n",
       "Name: floor, dtype: float64"
      ]
     },
     "execution_count": 18,
     "metadata": {},
     "output_type": "execute_result"
    }
   ],
   "source": [
    "describe_floor = data['floor'].describe()\n",
    "describe_floor"
   ]
  },
  {
   "cell_type": "code",
   "execution_count": 70,
   "id": "ruled-sword",
   "metadata": {},
   "outputs": [
    {
     "data": {
      "text/html": [
       "<div>\n",
       "<style scoped>\n",
       "    .dataframe tbody tr th:only-of-type {\n",
       "        vertical-align: middle;\n",
       "    }\n",
       "\n",
       "    .dataframe tbody tr th {\n",
       "        vertical-align: top;\n",
       "    }\n",
       "\n",
       "    .dataframe thead th {\n",
       "        text-align: right;\n",
       "    }\n",
       "</style>\n",
       "<table border=\"1\" class=\"dataframe\">\n",
       "  <thead>\n",
       "    <tr style=\"text-align: right;\">\n",
       "      <th></th>\n",
       "      <th>0</th>\n",
       "      <th>1</th>\n",
       "    </tr>\n",
       "  </thead>\n",
       "  <tbody>\n",
       "    <tr>\n",
       "      <th>0</th>\n",
       "      <td>1.0</td>\n",
       "      <td>137              PH\n",
       "491       apartment\n",
       "876   ...</td>\n",
       "    </tr>\n",
       "    <tr>\n",
       "      <th>1</th>\n",
       "      <td>2.0</td>\n",
       "      <td>341       apartment\n",
       "443       apartment\n",
       "476   ...</td>\n",
       "    </tr>\n",
       "    <tr>\n",
       "      <th>2</th>\n",
       "      <td>3.0</td>\n",
       "      <td>888       apartment\n",
       "1065      apartment\n",
       "2854  ...</td>\n",
       "    </tr>\n",
       "    <tr>\n",
       "      <th>3</th>\n",
       "      <td>4.0</td>\n",
       "      <td>1534      apartment\n",
       "1774      apartment\n",
       "2272  ...</td>\n",
       "    </tr>\n",
       "    <tr>\n",
       "      <th>4</th>\n",
       "      <td>5.0</td>\n",
       "      <td>868       apartment\n",
       "4829      apartment\n",
       "4830  ...</td>\n",
       "    </tr>\n",
       "    <tr>\n",
       "      <th>...</th>\n",
       "      <td>...</td>\n",
       "      <td>...</td>\n",
       "    </tr>\n",
       "    <tr>\n",
       "      <th>80</th>\n",
       "      <td>907.0</td>\n",
       "      <td>22030    apartment\n",
       "Name: property_type, dtype:...</td>\n",
       "    </tr>\n",
       "    <tr>\n",
       "      <th>81</th>\n",
       "      <td>1001.0</td>\n",
       "      <td>17797    apartment\n",
       "Name: property_type, dtype:...</td>\n",
       "    </tr>\n",
       "    <tr>\n",
       "      <th>82</th>\n",
       "      <td>1104.0</td>\n",
       "      <td>17794    apartment\n",
       "Name: property_type, dtype:...</td>\n",
       "    </tr>\n",
       "    <tr>\n",
       "      <th>83</th>\n",
       "      <td>2103.0</td>\n",
       "      <td>63257    apartment\n",
       "Name: property_type, dtype:...</td>\n",
       "    </tr>\n",
       "    <tr>\n",
       "      <th>84</th>\n",
       "      <td>2509.0</td>\n",
       "      <td>63248    apartment\n",
       "Name: property_type, dtype:...</td>\n",
       "    </tr>\n",
       "  </tbody>\n",
       "</table>\n",
       "<p>85 rows × 2 columns</p>\n",
       "</div>"
      ],
      "text/plain": [
       "         0                                                  1\n",
       "0      1.0  137              PH\n",
       "491       apartment\n",
       "876   ...\n",
       "1      2.0  341       apartment\n",
       "443       apartment\n",
       "476   ...\n",
       "2      3.0  888       apartment\n",
       "1065      apartment\n",
       "2854  ...\n",
       "3      4.0  1534      apartment\n",
       "1774      apartment\n",
       "2272  ...\n",
       "4      5.0  868       apartment\n",
       "4829      apartment\n",
       "4830  ...\n",
       "..     ...                                                ...\n",
       "80   907.0  22030    apartment\n",
       "Name: property_type, dtype:...\n",
       "81  1001.0  17797    apartment\n",
       "Name: property_type, dtype:...\n",
       "82  1104.0  17794    apartment\n",
       "Name: property_type, dtype:...\n",
       "83  2103.0  63257    apartment\n",
       "Name: property_type, dtype:...\n",
       "84  2509.0  63248    apartment\n",
       "Name: property_type, dtype:...\n",
       "\n",
       "[85 rows x 2 columns]"
      ]
     },
     "execution_count": 70,
     "metadata": {},
     "output_type": "execute_result"
    }
   ],
   "source": [
    "fill_values_capital = data_capital.groupby('floor')['property_type']\n",
    "fill_values_capital2 = pd.DataFrame(fill_values_capital)\n",
    "fill_values_capital2\n",
    "#ESTO ESTA MAL LO VOY A VER ##"
   ]
  },
  {
   "cell_type": "code",
   "execution_count": 35,
   "id": "editorial-legend",
   "metadata": {},
   "outputs": [
    {
     "data": {
      "text/plain": [
       "23770"
      ]
     },
     "execution_count": 35,
     "metadata": {},
     "output_type": "execute_result"
    }
   ],
   "source": [
    "data_capital['lat-lon'].notnull().sum()"
   ]
  },
  {
   "cell_type": "code",
   "execution_count": 36,
   "id": "seventh-roads",
   "metadata": {},
   "outputs": [
    {
     "data": {
      "text/plain": [
       "23434"
      ]
     },
     "execution_count": 36,
     "metadata": {},
     "output_type": "execute_result"
    }
   ],
   "source": [
    "data_capital.price_usd_per_m2.notnull().sum()"
   ]
  },
  {
   "cell_type": "code",
   "execution_count": 39,
   "id": "honest-destruction",
   "metadata": {},
   "outputs": [
    {
     "data": {
      "text/plain": [
       "15325"
      ]
     },
     "execution_count": 39,
     "metadata": {},
     "output_type": "execute_result"
    }
   ],
   "source": [
    "data_capital.rooms.notnull().sum()"
   ]
  },
  {
   "cell_type": "code",
   "execution_count": 40,
   "id": "precise-legislation",
   "metadata": {},
   "outputs": [
    {
     "data": {
      "text/plain": [
       "6592"
      ]
     },
     "execution_count": 40,
     "metadata": {},
     "output_type": "execute_result"
    }
   ],
   "source": [
    "data_capital.expenses.notnull().sum()"
   ]
  },
  {
   "cell_type": "code",
   "execution_count": 42,
   "id": "casual-eligibility",
   "metadata": {},
   "outputs": [
    {
     "data": {
      "text/plain": [
       "3009"
      ]
     },
     "execution_count": 42,
     "metadata": {},
     "output_type": "execute_result"
    }
   ],
   "source": [
    "data_capital.floor.notnull().sum()"
   ]
  },
  {
   "cell_type": "code",
   "execution_count": 43,
   "id": "existing-contractor",
   "metadata": {},
   "outputs": [],
   "source": [
    "primer_graf = {'lat-lon':32770, 'price_usd_per_m2':23434, 'rooms':15325, 'expenses':6592, 'floor':3009}"
   ]
  },
  {
   "cell_type": "code",
   "execution_count": 44,
   "id": "continuing-techno",
   "metadata": {},
   "outputs": [],
   "source": [
    "import matplotlib.pyplot as plt\n",
    "%matplotlib inline\n",
    "plt.style.use('dark_background')"
   ]
  },
  {
   "cell_type": "code",
   "execution_count": 45,
   "id": "martial-living",
   "metadata": {},
   "outputs": [],
   "source": [
    "N_points = 50000"
   ]
  },
  {
   "cell_type": "code",
   "execution_count": 47,
   "id": "worst-cartoon",
   "metadata": {},
   "outputs": [
    {
     "data": {
      "text/plain": [
       "(array([1., 0., 1., 0., 0., 1., 0., 1., 0., 1.]),\n",
       " array([0. , 0.4, 0.8, 1.2, 1.6, 2. , 2.4, 2.8, 3.2, 3.6, 4. ]),\n",
       " <BarContainer object of 10 artists>)"
      ]
     },
     "execution_count": 47,
     "metadata": {},
     "output_type": "execute_result"
    },
    {
     "data": {
      "image/png": "[encoded data removed]",
      "text/plain": [
       "<Figure size 432x288 with 1 Axes>"
      ]
     },
     "metadata": {},
     "output_type": "display_data"
    }
   ],
   "source": [
    "fig = plt.figure()\n",
    "ax = plt.axes()\n",
    "ax.hist(primer_graf, label='primer_graf')\n",
    "#ax[1].hist(N_points, data_normal_1)"
   ]
  },
  {
   "cell_type": "code",
   "execution_count": 73,
   "id": "checked-cleaners",
   "metadata": {},
   "outputs": [
    {
     "data": {
      "text/plain": [
       "property_type\n",
       "PH            1828\n",
       "apartment    27037\n",
       "house         2087\n",
       "store         1364\n",
       "Name: place_name, dtype: int64"
      ]
     },
     "execution_count": 73,
     "metadata": {},
     "output_type": "execute_result"
    }
   ],
   "source": [
    "fill_values_capital = data_capital.groupby('property_type').place_name\n",
    "fill_values_capital.size()"
   ]
  },
  {
   "cell_type": "code",
   "execution_count": 78,
   "id": "greater-visiting",
   "metadata": {},
   "outputs": [
    {
     "data": {
      "text/html": [
       "<div>\n",
       "<style scoped>\n",
       "    .dataframe tbody tr th:only-of-type {\n",
       "        vertical-align: middle;\n",
       "    }\n",
       "\n",
       "    .dataframe tbody tr th {\n",
       "        vertical-align: top;\n",
       "    }\n",
       "\n",
       "    .dataframe thead th {\n",
       "        text-align: right;\n",
       "    }\n",
       "</style>\n",
       "<table border=\"1\" class=\"dataframe\">\n",
       "  <thead>\n",
       "    <tr style=\"text-align: right;\">\n",
       "      <th></th>\n",
       "      <th>place_name</th>\n",
       "    </tr>\n",
       "    <tr>\n",
       "      <th>property_type</th>\n",
       "      <th></th>\n",
       "    </tr>\n",
       "  </thead>\n",
       "  <tbody>\n",
       "    <tr>\n",
       "      <th>PH</th>\n",
       "      <td>1828</td>\n",
       "    </tr>\n",
       "    <tr>\n",
       "      <th>apartment</th>\n",
       "      <td>27037</td>\n",
       "    </tr>\n",
       "    <tr>\n",
       "      <th>house</th>\n",
       "      <td>2087</td>\n",
       "    </tr>\n",
       "    <tr>\n",
       "      <th>store</th>\n",
       "      <td>1364</td>\n",
       "    </tr>\n",
       "  </tbody>\n",
       "</table>\n",
       "</div>"
      ],
      "text/plain": [
       "               place_name\n",
       "property_type            \n",
       "PH                   1828\n",
       "apartment           27037\n",
       "house                2087\n",
       "store                1364"
      ]
     },
     "execution_count": 78,
     "metadata": {},
     "output_type": "execute_result"
    }
   ],
   "source": [
    "total = 32316\n",
    "fill_cap = fill_values_capital.size()\n",
    "pd.DataFrame(fill_cap)"
   ]
  },
  {
   "cell_type": "code",
   "execution_count": 86,
   "id": "every-absorption",
   "metadata": {},
   "outputs": [
    {
     "data": {
      "image/png": "[encoded data removed]",
      "text/plain": [
       "<Figure size 432x288 with 1 Axes>"
      ]
     },
     "metadata": {},
     "output_type": "display_data"
    }
   ],
   "source": [
    "fig = plt.figure()\n",
    "ax = plt.axes()"
   ]
  },
  {
   "cell_type": "code",
   "execution_count": 54,
   "id": "bizarre-medicare",
   "metadata": {},
   "outputs": [
    {
     "data": {
      "text/plain": [
       "property_type\n",
       "PH           0.056566\n",
       "apartment    0.836644\n",
       "house        0.064581\n",
       "store        0.042208\n",
       "Name: place_name, dtype: float64"
      ]
     },
     "execution_count": 54,
     "metadata": {},
     "output_type": "execute_result"
    }
   ],
   "source": [
    "fill_cap1 = fill_cap['apartment']\n",
    "percentage_prop_cap = (fill_cap/total)\n",
    "percentage_prop_cap"
   ]
  },
  {
   "cell_type": "code",
   "execution_count": 80,
   "id": "curious-collect",
   "metadata": {},
   "outputs": [],
   "source": [
    "data_6 = pd.DataFrame(data_capital).groupby('property_type')['place_name']\n",
    "data_5 = data_6.value_counts()"
   ]
  },
  {
   "cell_type": "code",
   "execution_count": 84,
   "id": "controlled-receptor",
   "metadata": {},
   "outputs": [
    {
     "data": {
      "text/plain": [
       "property_type  place_name   \n",
       "apartment      Belgrano         2761\n",
       "               Palermo          2599\n",
       "               Caballito        2079\n",
       "               Villa Urquiza    1449\n",
       "               Recoleta         1437\n",
       "               Villa Crespo     1131\n",
       "               San Telmo        1115\n",
       "Name: place_name, dtype: int64"
      ]
     },
     "execution_count": 84,
     "metadata": {},
     "output_type": "execute_result"
    }
   ],
   "source": [
    "data_4 = data_5.loc['apartment',:]\n",
    "data_4.head(7)"
   ]
  },
  {
   "cell_type": "code",
   "execution_count": 85,
   "id": "removed-scanner",
   "metadata": {},
   "outputs": [
    {
     "data": {
      "text/plain": [
       "27037"
      ]
     },
     "execution_count": 85,
     "metadata": {},
     "output_type": "execute_result"
    }
   ],
   "source": [
    "data_4.sum()"
   ]
  },
  {
   "cell_type": "code",
   "execution_count": 88,
   "id": "beautiful-conservation",
   "metadata": {},
   "outputs": [],
   "source": [
    "data_percentage = data_4 / 27037"
   ]
  },
  {
   "cell_type": "code",
   "execution_count": 89,
   "id": "relative-seattle",
   "metadata": {},
   "outputs": [
    {
     "data": {
      "text/plain": [
       "property_type  place_name   \n",
       "apartment      Belgrano         0.102119\n",
       "               Palermo          0.096128\n",
       "               Caballito        0.076895\n",
       "               Villa Urquiza    0.053593\n",
       "               Recoleta         0.053149\n",
       "Name: place_name, dtype: float64"
      ]
     },
     "execution_count": 89,
     "metadata": {},
     "output_type": "execute_result"
    }
   ],
   "source": [
    "data_per_mask = (data_percentage >= 0.05)\n",
    "data_percentage[data_per_mask]"
   ]
  },
  {
   "cell_type": "code",
   "execution_count": 90,
   "id": "moral-utility",
   "metadata": {},
   "outputs": [
    {
     "data": {
      "text/plain": [
       "0.3818840847727189"
      ]
     },
     "execution_count": 90,
     "metadata": {},
     "output_type": "execute_result"
    }
   ],
   "source": [
    "data_percentage[data_per_mask].sum()"
   ]
  },
  {
   "cell_type": "code",
   "execution_count": 93,
   "id": "featured-scheduling",
   "metadata": {},
   "outputs": [],
   "source": [
    "#ACA ESTARIA BUENO HACER UN GRAFICO DE BARRAS QUE MUESTRE COMO 5 ZONAS CONGLOMERA EL 38% DE TODOS LOS DEPARTAMENTOS (SON 64 ZONAS EN CAPITAL)"
   ]
  },
  {
   "cell_type": "code",
   "execution_count": 92,
   "id": "jewish-change",
   "metadata": {},
   "outputs": [
    {
     "data": {
      "image/png": "[encoded data removed]",
      "text/plain": [
       "<Figure size 432x288 with 1 Axes>"
      ]
     },
     "metadata": {},
     "output_type": "display_data"
    }
   ],
   "source": [
    "fig = plt.figure()\n",
    "ax = plt.axes()"
   ]
  },
  {
   "cell_type": "code",
   "execution_count": 94,
   "id": "alpine-disposal",
   "metadata": {},
   "outputs": [],
   "source": [
    "mask_apartments = data_capital.property_type == 'apartment'"
   ]
  },
  {
   "cell_type": "code",
   "execution_count": 96,
   "id": "related-nylon",
   "metadata": {},
   "outputs": [
    {
     "data": {
      "text/plain": [
       "place_name        price    \n",
       "Abasto            135000.0     5\n",
       "                  82000.0      3\n",
       "                  97000.0      3\n",
       "                  160000.0     3\n",
       "                  55000.0      2\n",
       "                              ..\n",
       "Villa del Parque  655000.0     1\n",
       "                  1290000.0    1\n",
       "                  3103121.0    1\n",
       "                  3280407.0    1\n",
       "                  3583886.0    1\n",
       "Name: price, Length: 11610, dtype: int64"
      ]
     },
     "execution_count": 96,
     "metadata": {},
     "output_type": "execute_result"
    }
   ],
   "source": [
    "data_apartments = data_capital[mask_apartments]\n",
    "new_data = data_apartments.groupby('place_name')['price']\n",
    "new_data.value_counts()"
   ]
  },
  {
   "cell_type": "code",
   "execution_count": 97,
   "id": "pleasant-joseph",
   "metadata": {},
   "outputs": [
    {
     "data": {
      "text/plain": [
       "24154"
      ]
     },
     "execution_count": 97,
     "metadata": {},
     "output_type": "execute_result"
    }
   ],
   "source": [
    "new_data.value_counts().sum()"
   ]
  },
  {
   "cell_type": "code",
   "execution_count": 98,
   "id": "general-baseball",
   "metadata": {},
   "outputs": [
    {
     "data": {
      "text/plain": [
       "place_name\n",
       "Abasto               11123015.0\n",
       "AgronomÃ­a            3485975.0\n",
       "Almagro             180852774.0\n",
       "Balvanera            79093587.0\n",
       "Barracas             52750214.0\n",
       "                       ...     \n",
       "Villa Riachuelo         85000.0\n",
       "Villa Santa Rita      3453550.0\n",
       "Villa Soldati         1447000.0\n",
       "Villa Urquiza       594753084.0\n",
       "Villa del Parque     62763174.0\n",
       "Name: price, Length: 62, dtype: float64"
      ]
     },
     "execution_count": 98,
     "metadata": {},
     "output_type": "execute_result"
    }
   ],
   "source": [
    "suma_parcial = new_data.sum()\n",
    "suma_parcial"
   ]
  },
  {
   "cell_type": "code",
   "execution_count": 99,
   "id": "considered-implementation",
   "metadata": {},
   "outputs": [
    {
     "data": {
      "text/plain": [
       "8953360158.0"
      ]
     },
     "execution_count": 99,
     "metadata": {},
     "output_type": "execute_result"
    }
   ],
   "source": [
    "suma_total = suma_parcial.sum()\n",
    "suma_total"
   ]
  },
  {
   "cell_type": "code",
   "execution_count": 102,
   "id": "portuguese-research",
   "metadata": {},
   "outputs": [
    {
     "data": {
      "text/plain": [
       "place_name\n",
       "Abasto              0.001242\n",
       "AgronomÃ­a          0.000389\n",
       "Almagro             0.020199\n",
       "Balvanera           0.008834\n",
       "Barracas            0.005892\n",
       "                      ...   \n",
       "Villa Riachuelo     0.000009\n",
       "Villa Santa Rita    0.000386\n",
       "Villa Soldati       0.000162\n",
       "Villa Urquiza       0.066428\n",
       "Villa del Parque    0.007010\n",
       "Name: price, Length: 62, dtype: float64"
      ]
     },
     "execution_count": 102,
     "metadata": {},
     "output_type": "execute_result"
    }
   ],
   "source": [
    "peso_relativo_del_monto = suma_parcial / suma_total\n",
    "peso_relativo_del_monto"
   ]
  },
  {
   "cell_type": "code",
   "execution_count": null,
   "id": "aboriginal-briefing",
   "metadata": {},
   "outputs": [],
   "source": []
  }
 ],
 "metadata": {
  "kernelspec": {
   "display_name": "Python 3",
   "language": "python",
   "name": "python3"
  },
  "language_info": {
   "codemirror_mode": {
    "name": "ipython",
    "version": 3
   },
   "file_extension": ".py",
   "mimetype": "text/x-python",
   "name": "python",
   "nbconvert_exporter": "python",
   "pygments_lexer": "ipython3",
   "version": "3.7.9"
  }
 },
 "nbformat": 4,
 "nbformat_minor": 5
}
